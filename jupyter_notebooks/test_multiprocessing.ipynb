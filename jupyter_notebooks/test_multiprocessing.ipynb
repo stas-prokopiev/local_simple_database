{
 "cells": [
  {
   "cell_type": "code",
   "execution_count": 1,
   "metadata": {},
   "outputs": [],
   "source": [
    "import sys, os\n",
    "import time\n",
    "str_python_library_path = \"C:/Users/Stanislav/Desktop/my_python_projects\"\n",
    "\n",
    "if str_python_library_path not in sys.path:\n",
    "    sys.path.insert(0, str_python_library_path)\n",
    "    \n",
    "from local_simple_database import class_local_simple_database\n",
    "from local_simple_database import class_local_dict_database\n",
    "import logging\n",
    "from threading import Thread\n",
    "from multiprocessing import Process\n",
    "\n",
    "from local_simple_database.jupyter_notebooks.test import func1\n",
    "from local_simple_database.jupyter_notebooks.test import func2\n",
    "\n",
    "logging.basicConfig(level=30)"
   ]
  },
  {
   "cell_type": "code",
   "execution_count": 2,
   "metadata": {},
   "outputs": [
    {
     "name": "stdout",
     "output_type": "stream",
     "text": [
      "Wall time: 6.02 s\n"
     ]
    }
   ],
   "source": [
    "%%time\n",
    "#####\n",
    "p = Process(target=func1)\n",
    "p2 = Process(target=func2)\n",
    "\n",
    "p.start()\n",
    "p2.start()\n",
    "\n",
    "p.join()\n",
    "p2.join()"
   ]
  },
  {
   "cell_type": "code",
   "execution_count": 3,
   "metadata": {},
   "outputs": [
    {
     "name": "stdout",
     "output_type": "stream",
     "text": [
      "Func1: STARTED\n",
      "Func1: FINISHED\n"
     ]
    }
   ],
   "source": [
    "\n",
    "func1()"
   ]
  },
  {
   "cell_type": "code",
   "execution_count": 4,
   "metadata": {},
   "outputs": [
    {
     "name": "stdout",
     "output_type": "stream",
     "text": [
      "That took 0.06433439254760742 seconds\n"
     ]
    }
   ],
   "source": [
    "starttime = time.time()\n",
    "processes = []\n",
    "\n",
    "\n",
    "p = Process(target=func1)\n",
    "processes.append(p)\n",
    "p.start()\n",
    "\n",
    "p = Process(target=func1)\n",
    "processes.append(p)\n",
    "p.start()\n",
    "\n",
    "# p2 = Process(target=func2)\n",
    "# processes.append(p2)\n",
    "# p2.start()\n",
    "\n",
    "for process in processes:\n",
    "    process.join()\n",
    "\n",
    "print('That took {} seconds'.format(time.time() - starttime))"
   ]
  },
  {
   "cell_type": "code",
   "execution_count": 12,
   "metadata": {},
   "outputs": [
    {
     "name": "stdout",
     "output_type": "stream",
     "text": [
      "Finished\n"
     ]
    }
   ],
   "source": [
    "p = Process(target=func1)\n",
    "p.start()\n",
    "# and so on\n",
    "p.join()\n",
    "#p2.join()\n",
    "# the join means wait untill it finished\n",
    "print(\"Finished\")     \n",
    "        \n",
    "##### \n",
    "# Thread(target = func1).start()\n",
    "# Thread(target = func2).start()\n",
    "\n"
   ]
  },
  {
   "cell_type": "code",
   "execution_count": 9,
   "metadata": {},
   "outputs": [
    {
     "data": {
      "text/plain": [
       "OrderedDict([('20200502', 1)])"
      ]
     },
     "execution_count": 9,
     "metadata": {},
     "output_type": "execute_result"
    }
   ],
   "source": [
    "#db.get_dict_every_DB_by_datetime()\n",
    "\n",
    "db.get_one_DB_data_daily(\"int_sdgs2\")\n"
   ]
  },
  {
   "cell_type": "code",
   "execution_count": 4,
   "metadata": {
    "scrolled": true
   },
   "outputs": [
    {
     "data": {
      "text/plain": [
       "{'dict_hello': {\n",
       "    \"list_stuff\": [\n",
       "       \"dict\",\n",
       "       \"list\",\n",
       "       \"tuple\"\n",
       "    ],\n",
       "    \"new_key\": 2\n",
       " }}"
      ]
     },
     "execution_count": 4,
     "metadata": {},
     "output_type": "execute_result"
    }
   ],
   "source": [
    "#db.get_dict_DBs_data_by_DB_name()\n",
    "db2.get_dict_DBs_data_by_DB_name()"
   ]
  },
  {
   "cell_type": "code",
   "execution_count": 8,
   "metadata": {},
   "outputs": [
    {
     "name": "stderr",
     "output_type": "stream",
     "text": [
      "INFO:filelock:Lock 1566560414128 acquired on C:\\Users\\Stanislav\\Desktop\\my_python_projects\\TMP_FOLDER\\dict_hello.txt.lock\n",
      "INFO:filelock:Lock 1566560414128 released on C:\\Users\\Stanislav\\Desktop\\my_python_projects\\TMP_FOLDER\\dict_hello.txt.lock\n"
     ]
    },
    {
     "data": {
      "text/plain": [
       "{\n",
       "   \"list_stuff\": [\n",
       "      \"dict\",\n",
       "      \"list\",\n",
       "      \"tuple\"\n",
       "   ],\n",
       "   \"new_key\": 2\n",
       "}"
      ]
     },
     "execution_count": 8,
     "metadata": {},
     "output_type": "execute_result"
    }
   ],
   "source": [
    "#db2[\"hello\"][\"list_stuff\"] = [\"dict\", \"list\"]\n",
    "#db2[\"hello\"][\"list_stuff\"] += [\"tuple\"]\n",
    "db2[\"hello\"]"
   ]
  },
  {
   "cell_type": "code",
   "execution_count": 12,
   "metadata": {},
   "outputs": [
    {
     "name": "stderr",
     "output_type": "stream",
     "text": [
      "INFO:local_simple_database:Initialize new database with name int_sdgs3 With type of values: INT\n"
     ]
    },
    {
     "data": {
      "text/plain": [
       "0"
      ]
     },
     "execution_count": 12,
     "metadata": {},
     "output_type": "execute_result"
    }
   ],
   "source": [
    "db[\"int_sdgs3\"]"
   ]
  },
  {
   "cell_type": "code",
   "execution_count": 2,
   "metadata": {},
   "outputs": [
    {
     "ename": "NameError",
     "evalue": "name 'db' is not defined",
     "output_type": "error",
     "traceback": [
      "\u001b[1;31m---------------------------------------------------------------------------\u001b[0m",
      "\u001b[1;31mNameError\u001b[0m                                 Traceback (most recent call last)",
      "\u001b[1;32m<ipython-input-2-be85d500d8b6>\u001b[0m in \u001b[0;36m<module>\u001b[1;34m\u001b[0m\n\u001b[0;32m      1\u001b[0m \u001b[1;31m#db.collect_all_data_as_dict()\u001b[0m\u001b[1;33m\u001b[0m\u001b[1;33m\u001b[0m\u001b[1;33m\u001b[0m\u001b[0m\n\u001b[0;32m      2\u001b[0m \u001b[1;31m#db.get_dict_dict_DBs_data_by_DB_name_by_date()\u001b[0m\u001b[1;33m\u001b[0m\u001b[1;33m\u001b[0m\u001b[1;33m\u001b[0m\u001b[0m\n\u001b[1;32m----> 3\u001b[1;33m \u001b[0mdb\u001b[0m\u001b[1;33m.\u001b[0m\u001b[0mget_one_DB_data_daily\u001b[0m\u001b[1;33m(\u001b[0m\u001b[1;34m\"int_new\"\u001b[0m\u001b[1;33m,\u001b[0m \u001b[0mvalue_to_use_if_DB_not_found\u001b[0m\u001b[1;33m=\u001b[0m\u001b[1;32mNone\u001b[0m\u001b[1;33m)\u001b[0m\u001b[1;33m\u001b[0m\u001b[1;33m\u001b[0m\u001b[0m\n\u001b[0m",
      "\u001b[1;31mNameError\u001b[0m: name 'db' is not defined"
     ]
    }
   ],
   "source": [
    "#db.collect_all_data_as_dict()\n",
    "#db.get_dict_dict_DBs_data_by_DB_name_by_date()\n",
    "#db.get_one_DB_data_daily(\"int_new\", value_to_use_if_DB_not_found=None)"
   ]
  },
  {
   "cell_type": "code",
   "execution_count": 4,
   "metadata": {},
   "outputs": [
    {
     "ename": "NameError",
     "evalue": "name 'LIST_ALL_SUPPORTED_TYPES_OF_DB' is not defined",
     "output_type": "error",
     "traceback": [
      "\u001b[1;31m---------------------------------------------------------------------------\u001b[0m",
      "\u001b[1;31mNameError\u001b[0m                                 Traceback (most recent call last)",
      "\u001b[1;32m<ipython-input-4-796bd601aafd>\u001b[0m in \u001b[0;36m<module>\u001b[1;34m\u001b[0m\n\u001b[1;32m----> 1\u001b[1;33m \u001b[0mdb\u001b[0m\u001b[1;33m[\u001b[0m\u001b[1;34m\"int_new\"\u001b[0m\u001b[1;33m]\u001b[0m \u001b[1;33m+=\u001b[0m \u001b[1;36m1\u001b[0m\u001b[1;33m\u001b[0m\u001b[1;33m\u001b[0m\u001b[0m\n\u001b[0m\u001b[0;32m      2\u001b[0m \u001b[1;31m#db[\"list_new\"] += [\"fdhso\"]\u001b[0m\u001b[1;33m\u001b[0m\u001b[1;33m\u001b[0m\u001b[1;33m\u001b[0m\u001b[0m\n",
      "\u001b[1;32mC:/Users/Stanislav/Desktop/my_python_projects\\local_simple_database\\class_local_simple_database.py\u001b[0m in \u001b[0;36m__getitem__\u001b[1;34m(self, str_db_name)\u001b[0m\n\u001b[0;32m     68\u001b[0m         \"\"\"\n\u001b[0;32m     69\u001b[0m         \u001b[1;32mif\u001b[0m \u001b[0mstr_db_name\u001b[0m \u001b[1;32mnot\u001b[0m \u001b[1;32min\u001b[0m \u001b[0mself\u001b[0m\u001b[1;33m.\u001b[0m\u001b[0mdict_db_handler_by_str_db_name\u001b[0m\u001b[1;33m:\u001b[0m\u001b[1;33m\u001b[0m\u001b[1;33m\u001b[0m\u001b[0m\n\u001b[1;32m---> 70\u001b[1;33m             \u001b[0mself\u001b[0m\u001b[1;33m.\u001b[0m\u001b[0minit_new_database\u001b[0m\u001b[1;33m(\u001b[0m\u001b[0mstr_db_name\u001b[0m\u001b[1;33m)\u001b[0m\u001b[1;33m\u001b[0m\u001b[1;33m\u001b[0m\u001b[0m\n\u001b[0m\u001b[0;32m     71\u001b[0m         \u001b[1;32mreturn\u001b[0m \u001b[0mself\u001b[0m\u001b[1;33m.\u001b[0m\u001b[0mdict_db_handler_by_str_db_name\u001b[0m\u001b[1;33m[\u001b[0m\u001b[0mstr_db_name\u001b[0m\u001b[1;33m]\u001b[0m\u001b[1;33m.\u001b[0m\u001b[0mget_value\u001b[0m\u001b[1;33m(\u001b[0m\u001b[1;33m)\u001b[0m\u001b[1;33m\u001b[0m\u001b[1;33m\u001b[0m\u001b[0m\n\u001b[0;32m     72\u001b[0m \u001b[1;33m\u001b[0m\u001b[0m\n",
      "\u001b[1;32mC:/Users/Stanislav/Desktop/my_python_projects\\local_simple_database\\class_local_simple_database.py\u001b[0m in \u001b[0;36minit_new_database\u001b[1;34m(self, str_db_name, str_database_type)\u001b[0m\n\u001b[0;32m    101\u001b[0m         \u001b[1;32mif\u001b[0m \u001b[1;32mnot\u001b[0m \u001b[0mstr_database_type\u001b[0m\u001b[1;33m:\u001b[0m\u001b[1;33m\u001b[0m\u001b[1;33m\u001b[0m\u001b[0m\n\u001b[0;32m    102\u001b[0m             \u001b[0mstr_database_type\u001b[0m \u001b[1;33m=\u001b[0m \u001b[1;34m\"int\"\u001b[0m\u001b[1;33m\u001b[0m\u001b[1;33m\u001b[0m\u001b[0m\n\u001b[1;32m--> 103\u001b[1;33m             \u001b[1;32mfor\u001b[0m \u001b[0mstr_db_type\u001b[0m \u001b[1;32min\u001b[0m \u001b[0mLIST_ALL_SUPPORTED_TYPES_OF_DB\u001b[0m\u001b[1;33m:\u001b[0m\u001b[1;33m\u001b[0m\u001b[1;33m\u001b[0m\u001b[0m\n\u001b[0m\u001b[0;32m    104\u001b[0m                 \u001b[1;32mif\u001b[0m \u001b[0mstr_db_name\u001b[0m\u001b[1;33m.\u001b[0m\u001b[0mstartswith\u001b[0m\u001b[1;33m(\u001b[0m\u001b[0mstr_db_type\u001b[0m\u001b[1;33m)\u001b[0m\u001b[1;33m:\u001b[0m\u001b[1;33m\u001b[0m\u001b[1;33m\u001b[0m\u001b[0m\n\u001b[0;32m    105\u001b[0m                     \u001b[0mstr_database_type\u001b[0m \u001b[1;33m=\u001b[0m \u001b[0mstr_db_type\u001b[0m\u001b[1;33m\u001b[0m\u001b[1;33m\u001b[0m\u001b[0m\n",
      "\u001b[1;31mNameError\u001b[0m: name 'LIST_ALL_SUPPORTED_TYPES_OF_DB' is not defined"
     ]
    }
   ],
   "source": [
    "db[\"int_new\"] += 1\n",
    "#db[\"list_new\"] += [\"fdhso\"]"
   ]
  },
  {
   "cell_type": "code",
   "execution_count": 8,
   "metadata": {},
   "outputs": [
    {
     "data": {
      "text/plain": [
       "2"
      ]
     },
     "execution_count": 8,
     "metadata": {},
     "output_type": "execute_result"
    }
   ],
   "source": [
    "db[\"int_new\"]"
   ]
  },
  {
   "cell_type": "code",
   "execution_count": 6,
   "metadata": {},
   "outputs": [
    {
     "name": "stderr",
     "output_type": "stream",
     "text": [
      "Lock 2185496476360 acquired on C:\\Users\\Stanislav\\Desktop\\my_python_projects\\TMP_FOLDER\\2020_04_18\\list_new.txt.lock\n",
      "Lock 2185496476360 released on C:\\Users\\Stanislav\\Desktop\\my_python_projects\\TMP_FOLDER\\2020_04_18\\list_new.txt.lock\n"
     ]
    },
    {
     "data": {
      "text/plain": [
       "['1', 'fdhso', 'fdhso']"
      ]
     },
     "execution_count": 6,
     "metadata": {},
     "output_type": "execute_result"
    }
   ],
   "source": [
    "db[\"list_new\"]"
   ]
  },
  {
   "cell_type": "code",
   "execution_count": null,
   "metadata": {},
   "outputs": [],
   "source": []
  }
 ],
 "metadata": {
  "kernelspec": {
   "display_name": "Python 3",
   "language": "python",
   "name": "python3"
  },
  "language_info": {
   "codemirror_mode": {
    "name": "ipython",
    "version": 3
   },
   "file_extension": ".py",
   "mimetype": "text/x-python",
   "name": "python",
   "nbconvert_exporter": "python",
   "pygments_lexer": "ipython3",
   "version": "3.7.1"
  }
 },
 "nbformat": 4,
 "nbformat_minor": 2
}
